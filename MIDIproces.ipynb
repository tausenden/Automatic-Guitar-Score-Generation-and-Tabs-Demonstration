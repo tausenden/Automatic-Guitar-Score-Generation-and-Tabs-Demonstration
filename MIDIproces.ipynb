{
 "cells": [
  {
   "cell_type": "code",
   "execution_count": 24,
   "metadata": {},
   "outputs": [],
   "source": [
    "import pretty_midi"
   ]
  },
  {
   "cell_type": "code",
   "execution_count": 25,
   "metadata": {},
   "outputs": [],
   "source": [
    "def ini_midi2d(midi_file):\n",
    "\n",
    "    midi_data = pretty_midi.PrettyMIDI(midi_file)\n",
    "    \n",
    "    melodies = []  # List to store melodies from each instrument\n",
    "    \n",
    "    # Iterate over all instruments in the MIDI file\n",
    "    for instrument in midi_data.instruments:\n",
    "        # Skip drums (if General MIDI percussion channel 10)\n",
    "        if instrument.is_drum:\n",
    "            continue\n",
    "        \n",
    "        # Extract the melody notes for this instrument\n",
    "        melody = [(note.pitch, note.start, note.end, note.velocity) for note in instrument.notes]\n",
    "        if melody:  # If the instrument has melody notes\n",
    "            melodies.append({\n",
    "                \"instrument_name\": instrument.name if instrument.name else \"Unknown\",\n",
    "                \"notes\": melody\n",
    "            })\n",
    "    \n",
    "    return melodies"
   ]
  },
  {
   "cell_type": "code",
   "execution_count": 26,
   "metadata": {},
   "outputs": [],
   "source": [
    "def ini_midi_onlyp(midi_file):\n",
    "    # Load the MIDI file\n",
    "    midi_data = pretty_midi.PrettyMIDI(midi_file)\n",
    "    \n",
    "    pitches = []  # List to store pitches from each instrument\n",
    "    \n",
    "    # Iterate over all instruments in the MIDI file\n",
    "    for instrument in midi_data.instruments:\n",
    "        # Skip drums (if General MIDI percussion channel 10)\n",
    "        if instrument.is_drum:\n",
    "            continue\n",
    "        \n",
    "        # Extract the pitch values for this instrument\n",
    "        instrument_pitches = [note.pitch for note in instrument.notes]\n",
    "        if instrument_pitches:  # If the instrument has notes\n",
    "            pitches.append({\n",
    "                \"instrument_name\": instrument.name if instrument.name else \"Unknown\",\n",
    "                \"pitches\": instrument_pitches\n",
    "            })\n",
    "    \n",
    "    return pitches"
   ]
  },
  {
   "cell_type": "code",
   "execution_count": 27,
   "metadata": {},
   "outputs": [
    {
     "name": "stdout",
     "output_type": "stream",
     "text": [
      "Instrument 1 (Unknown): [71, 59, 55, 71, 59, 55, 71, 59, 40, 55, 71, 59, 55, 69, 59, 55, 67, 59, 40, 55, 67, 59, 55, 66, 59, 55, 64, 59, 40, 55, 64, 59, 55, 67, 59, 55, 71, 59, 40, 55, 76, 59, 55, 76, 59, 55, 76, 59, 40, 55, 76, 59, 55, 74, 59, 55, 72, 59, 40, 55, 72, 64, 60, 71, 64, 60, 69, 64, 45, 60, 69, 64, 60, 71, 64, 60, 72, 64, 45, 60, 71, 66, 63, 72, 66, 63, 71, 66, 47, 63, 75, 66, 63, 72, 66, 63, 71, 66, 47, 63, 71, 59, 55, 69, 59, 55, 67, 59, 40, 55, 67, 59, 55, 66, 59, 55, 64, 59, 40, 55, 66, 59, 57, 66, 59, 57, 66, 59, 47, 57, 66, 59, 57, 67, 59, 57, 66, 59, 51, 57, 64, 59, 52, 55, 64, 59, 47, 55, 64, 59, 43, 55, 64, 40, 67, 71, 76, 68, 59, 56, 68, 59, 56, 68, 59, 40, 56, 68, 59, 56, 66, 59, 56, 64, 59, 40, 56, 64, 57, 54, 63, 57, 54, 63, 57, 42, 54, 63, 57, 54, 62, 57, 54, 63, 57, 42, 54, 73, 66, 63, 73, 66, 63, 73, 66, 47, 63, 73, 66, 63, 75, 66, 63, 73, 66, 47, 63, 73, 68, 64, 71, 68, 64, 71, 68, 40, 64, 71, 68, 64, 73, 68, 64, 75, 68, 40, 64, 76, 68, 64, 76, 68, 64, 76, 68, 40, 64, 76, 68, 64, 75, 68, 64, 74, 68, 40, 64, 73, 64, 61, 73, 64, 61, 73, 64, 45, 61, 73, 64, 61, 71, 64, 61, 69, 64, 45, 61, 68, 59, 56, 68, 59, 56, 68, 59, 40, 56, 68, 63, 57, 69, 63, 57, 66, 63, 47, 57, 64, 59, 52, 56, 64, 59, 47, 56, 64, 59, 44, 56, 56, 59, 64, 40, 68, 59, 56, 68, 59, 56, 68, 59, 40, 56, 68, 59, 56, 66, 59, 56, 64, 59, 40, 56, 64, 57, 54, 63, 57, 54, 63, 57, 42, 54, 63, 57, 54, 62, 57, 54, 63, 57, 42, 54, 73, 66, 63, 73, 66, 63, 73, 66, 47, 63, 73, 66, 63, 75, 66, 63, 73, 66, 47, 63, 73, 68, 64, 71, 68, 64, 71, 68, 40, 64, 71, 68, 64, 73, 68, 64, 75, 68, 40, 64, 76, 68, 64, 76, 68, 64, 76, 68, 40, 64, 76, 68, 64, 75, 68, 64, 74, 68, 40, 64, 73, 64, 61, 73, 64, 61, 73, 64, 45, 61, 73, 64, 61, 71, 64, 61, 69, 64, 45, 61, 68, 59, 56, 68, 59, 56, 68, 59, 40, 56, 68, 63, 57, 69, 63, 57, 66, 63, 47, 57, 64, 59, 52, 56, 64, 59, 47, 56, 64, 59, 44, 56, 56, 59, 64, 40, 71, 59, 55, 71, 59, 55, 71, 59, 40, 55, 71, 59, 55, 69, 59, 55, 67, 59, 40, 55, 67, 59, 55, 66, 59, 55, 64, 59, 40, 55, 64, 59, 55, 67, 59, 55, 71, 59, 40, 55, 76, 59, 55, 76, 59, 55, 76, 59, 40, 55, 76, 59, 55, 74, 59, 55, 72, 59, 40, 55, 72, 64, 60, 71, 64, 60, 69, 64, 45, 60, 69, 64, 60, 71, 64, 60, 72, 64, 45, 60, 71, 66, 63, 72, 66, 63, 71, 66, 47, 63, 75, 66, 63, 72, 66, 63, 71, 66, 47, 63, 71, 59, 55, 69, 59, 55, 67, 59, 40, 55, 67, 59, 55, 66, 59, 55, 64, 59, 40, 55, 66, 59, 57, 66, 59, 57, 66, 59, 47, 57, 66, 59, 57, 67, 59, 57, 66, 59, 51, 57, 64, 59, 52, 55, 64, 59, 47, 55, 64, 59, 43, 55, 64, 40, 67, 71, 76]\n"
     ]
    },
    {
     "name": "stderr",
     "output_type": "stream",
     "text": [
      "<>:2: SyntaxWarning: invalid escape sequence '\\S'\n",
      "<>:2: SyntaxWarning: invalid escape sequence '\\S'\n",
      "C:\\Users\\User\\AppData\\Local\\Temp\\ipykernel_24024\\2001590905.py:2: SyntaxWarning: invalid escape sequence '\\S'\n",
      "  midi_file = \"midis\\Spanish_Romance.mid\"\n"
     ]
    }
   ],
   "source": [
    "\n",
    "# Example usage\n",
    "midi_file = \"midis\\Spanish_Romance.mid\"\n",
    "melodies = ini_midi2d(midi_file)\n",
    "melodies = ini_midi_onlyp(midi_file)\n",
    "\n",
    "# for i, track in enumerate(melodies):\n",
    "#     print(f\"Instrument {i+1} ({track['instrument_name']}):\")\n",
    "#     for note in track[\"notes\"]:\n",
    "#         print(f\"  Pitch: {note[0]}, Start: {note[1]:.2f}, End: {note[2]:.2f}, Velocity: {note[3]}\")\n",
    "\n",
    "for i, track in enumerate(melodies):\n",
    "    print(f\"Instrument {i+1} ({track['instrument_name']}): {track['pitches']}\")"
   ]
  },
  {
   "cell_type": "code",
   "execution_count": 28,
   "metadata": {},
   "outputs": [],
   "source": [
    "import numpy as np\n",
    "import pyaudio\n",
    "\n",
    "def midi_to_freq(midi_pitch):\n",
    "    return 440.0 * (2.0 ** ((midi_pitch - 69) / 12.0))\n",
    "\n",
    "def generate_sine_wave(frequency, duration, sample_rate=44100, amplitude=0.4):\n",
    "    t = np.linspace(0, duration, int(sample_rate * duration), endpoint=False)\n",
    "    wave = amplitude * np.sin(2 * np.pi * frequency * t)\n",
    "    return wave.astype(np.float32)\n",
    "\n",
    "def play_wave(wave, sample_rate=44100):\n",
    "    p = pyaudio.PyAudio()\n",
    "    stream = p.open(format=pyaudio.paFloat32, channels=1, rate=sample_rate, output=True)\n",
    "    stream.write(wave)\n",
    "    stream.stop_stream()\n",
    "    stream.close()\n",
    "    p.terminate()\n",
    "\n",
    "def play_pitch_list(pitch_list, note_duration=0.8, sample_rate=44100):\n",
    "    for pitch in pitch_list:\n",
    "        if pitch is None: \n",
    "            print(\"Rest\")\n",
    "            continue\n",
    "        frequency = midi_to_freq(pitch)\n",
    "        #print(f\"Playing note {pitch} with frequency {frequency:.2f} Hz\")\n",
    "        wave = generate_sine_wave(frequency, note_duration, sample_rate)\n",
    "        play_wave(wave, sample_rate)\n",
    "\n"
   ]
  },
  {
   "cell_type": "code",
   "execution_count": 29,
   "metadata": {},
   "outputs": [],
   "source": [
    "pitch_list = [50, 52, 48, 45, 47, 45, 44, 43, 43, 31, 48, 60, 55, 52, 60, 55, 53, 60]\n",
    "play_pitch_list(pitch_list)\n",
    "#play_pitch_list(melodies[0]['pitches'])"
   ]
  }
 ],
 "metadata": {
  "kernelspec": {
   "display_name": "GSC",
   "language": "python",
   "name": "python3"
  },
  "language_info": {
   "codemirror_mode": {
    "name": "ipython",
    "version": 3
   },
   "file_extension": ".py",
   "mimetype": "text/x-python",
   "name": "python",
   "nbconvert_exporter": "python",
   "pygments_lexer": "ipython3",
   "version": "3.12.7"
  }
 },
 "nbformat": 4,
 "nbformat_minor": 2
}
