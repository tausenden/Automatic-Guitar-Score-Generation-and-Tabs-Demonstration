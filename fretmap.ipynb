{
 "cells": [
  {
   "cell_type": "code",
   "execution_count": 3,
   "metadata": {},
   "outputs": [],
   "source": [
    "class Guitar():\n",
    "    def __init__(self,tuning=[40, 45, 50, 55, 59, 64], fretnum=24):\n",
    "        self.tuning= tuning\n",
    "        self.fretnum=fretnum\n",
    "        boarddic={}\n",
    "        self.fboard=boarddic\n",
    "class Hand():\n",
    "    def __init__(self):\n",
    "        self.f1=None\n",
    "        self.f2=None\n",
    "        self.f3=None\n",
    "        self.f4=None"
   ]
  }
 ],
 "metadata": {
  "kernelspec": {
   "display_name": "GSC",
   "language": "python",
   "name": "python3"
  },
  "language_info": {
   "codemirror_mode": {
    "name": "ipython",
    "version": 3
   },
   "file_extension": ".py",
   "mimetype": "text/x-python",
   "name": "python",
   "nbconvert_exporter": "python",
   "pygments_lexer": "ipython3",
   "version": "3.12.7"
  }
 },
 "nbformat": 4,
 "nbformat_minor": 2
}
