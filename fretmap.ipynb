{
 "cells": [
  {
   "cell_type": "code",
   "execution_count": 49,
   "metadata": {},
   "outputs": [],
   "source": [
    "class Guitar():\n",
    "    def __init__(self,tuning=[40, 45, 50, 55, 59, 64], fretnum=24):\n",
    "        self.tuning= tuning\n",
    "        self.fretnum=fretnum\n",
    "        def genfboard():\n",
    "            boarddic={}\n",
    "            stri=6\n",
    "            for i in self.tuning:\n",
    "                boarddic[stri]=[]\n",
    "                for j in range(self.fretnum+1):\n",
    "                    boarddic[stri].append(i+j)\n",
    "                stri-=1\n",
    "            return boarddic\n",
    "        self.fboard=genfboard()\n",
    "        self.chords = {\n",
    "            \"C\": [\n",
    "                {6: 0, 5: 3, 4: 2, 3: 0, 2: 1, 1: 0},  \n",
    "                {6: 0, 5: 3, 4: 2, 3: 3, 2: 1, 1: 0},\n",
    "                {6: 0, 5: 3, 4: 2, 3: 0, 2: 3, 1: 0},\n",
    "                {6: 0, 5: 3, 4: 2, 3: 0, 2: 0, 1: 0}\n",
    "            ],\n",
    "            \"D\": [\n",
    "                {6: 0, 5: 0, 4: 0, 3: 2, 2: 3, 1: 2},\n",
    "                {6: 0, 5: 0, 4: 0, 3: 2, 2: 2, 1: 1},\n",
    "                {6: 0, 5: 0, 4: 0, 3: 2, 2: 1, 1: 2},\n",
    "                {6: 0, 5: 0, 4: 0, 3: 2, 2: 1, 1: 3}\n",
    "            ],\n",
    "            \"E\": [\n",
    "                {6: 0, 5: 2, 4: 2, 3: 1, 2: 0, 1: 0},\n",
    "                {6: 0, 5: 2, 4: 2, 3: 0, 2: 0, 1: 0},\n",
    "                {6: 0, 5: 2, 4: 0, 3: 1, 2: 0, 1: 0},\n",
    "            ],\n",
    "            \"F\": [\n",
    "                {6: 1, 5: 3, 4: 3, 3: 2, 2: 1, 1: 1}\n",
    "            ],\n",
    "            \"G\": [\n",
    "                {6: 3, 5: 2, 4: 0, 3: 0, 2: 0, 1: 3}\n",
    "            ],\n",
    "            \"A\": [\n",
    "                {6: 0, 5: 0, 4: 2, 3: 2, 2: 2, 1: 0}\n",
    "            ],\n",
    "            \"B\": [\n",
    "                {6: 0, 5: 2, 4: 4, 3: 4, 2: 4, 1: 2}\n",
    "            ],\n",
    "        }\n",
    "\n",
    "    def get_chord_midi(self, chord_fingering):\n",
    "\n",
    "        midi_notes = []\n",
    "        for string, fret in chord_fingering.items():\n",
    "            midi_note = self.fboard[string][fret]\n",
    "            midi_notes.append(midi_note)\n",
    "\n",
    "        return midi_notes\n",
    "\n",
    "class Hand():\n",
    "    def __init__(self):\n",
    "        self.f1=None\n",
    "        self.f2=None\n",
    "        self.f3=None\n",
    "        self.f4=None"
   ]
  },
  {
   "cell_type": "code",
   "execution_count": 50,
   "metadata": {},
   "outputs": [],
   "source": [
    "def find_best_fretboard_match(g, melody, width=4):\n",
    "\n",
    "    max_overlap = 0\n",
    "    best_section = None\n",
    "\n",
    "    for start_fret in range(g.fretnum - width + 1):\n",
    "        notes_in_range = set()\n",
    "        for string, frets in g.fboard.items():\n",
    "            notes_in_range.update(frets[start_fret : start_fret + width + 1])\n",
    "        overlap = len(set(melody) & notes_in_range)\n",
    "\n",
    "        if overlap > max_overlap:\n",
    "            max_overlap = overlap\n",
    "            best_section = (start_fret, start_fret + width)\n",
    "\n",
    "    return best_section, max_overlap"
   ]
  },
  {
   "cell_type": "code",
   "execution_count": 51,
   "metadata": {},
   "outputs": [],
   "source": [
    "def find_best_chord_match(g, m):\n",
    "    max_overlap = 0\n",
    "    best_chord = None\n",
    "\n",
    "    cname=m[0]\n",
    "    melody=m[1]\n",
    "    if cname not in g.chords:\n",
    "        raise ValueError(f\"Chord '{cname}' not found in Guitar instance.\")\n",
    "    \n",
    "    for fingering in g.chords[cname]:\n",
    "        chord=g.get_chord_midi(fingering)\n",
    "        overlap = len(set(melody) & set(chord))\n",
    "\n",
    "        if overlap > max_overlap:\n",
    "            max_overlap = overlap\n",
    "            best_chord = (fingering,chord)\n",
    "\n",
    "    return best_chord, max_overlap"
   ]
  },
  {
   "cell_type": "code",
   "execution_count": 60,
   "metadata": {},
   "outputs": [
    {
     "name": "stdout",
     "output_type": "stream",
     "text": [
      "Best section: frets (13, 17)\n",
      "Overlap: 0.6666666666666666\n",
      "Best section: frets (0, 4)\n",
      "Overlap: 0.75\n"
     ]
    }
   ],
   "source": [
    "g1=Guitar()\n",
    "test_melody = [40, 75, 81, 47, 80, 55]\n",
    "test_melody2 = ['C', [40, 48, 52, 55, 62, 64, 80, 64]]\n",
    "width = 4 \n",
    "\n",
    "best_section, overlap = find_best_fretboard_match(g1, test_melody, width)\n",
    "\n",
    "print(f\"Best section: frets {best_section}\")    \n",
    "print(f\"Overlap: {overlap/len(test_melody)}\")\n",
    "\n",
    "best_section, overlap = find_best_fretboard_match(g1, test_melody2[1], width)\n",
    "\n",
    "print(f\"Best section: frets {best_section}\")    \n",
    "print(f\"Overlap: {overlap/len(test_melody2[1])}\")"
   ]
  },
  {
   "cell_type": "code",
   "execution_count": null,
   "metadata": {},
   "outputs": [
    {
     "name": "stdout",
     "output_type": "stream",
     "text": [
      "Best chord: ({6: 0, 5: 3, 4: 2, 3: 0, 2: 1, 1: 0}, [40, 48, 52, 55, 60, 64])\n",
      "Overlap: 0.3333333333333333\n",
      "Best chord: ({6: 0, 5: 3, 4: 2, 3: 0, 2: 3, 1: 0}, [40, 48, 52, 55, 62, 64])\n"
     ]
    },
    {
     "ename": "TypeError",
     "evalue": "object of type 'int' has no len()",
     "output_type": "error",
     "traceback": [
      "\u001b[1;31m---------------------------------------------------------------------------\u001b[0m",
      "\u001b[1;31mTypeError\u001b[0m                                 Traceback (most recent call last)",
      "Cell \u001b[1;32mIn[61], line 9\u001b[0m\n\u001b[0;32m      6\u001b[0m best_section, overlap \u001b[38;5;241m=\u001b[39m find_best_chord_match(g1, test_melody2)\n\u001b[0;32m      8\u001b[0m \u001b[38;5;28mprint\u001b[39m(\u001b[38;5;124mf\u001b[39m\u001b[38;5;124m\"\u001b[39m\u001b[38;5;124mBest chord: \u001b[39m\u001b[38;5;132;01m{\u001b[39;00mbest_section\u001b[38;5;132;01m}\u001b[39;00m\u001b[38;5;124m\"\u001b[39m)    \n\u001b[1;32m----> 9\u001b[0m \u001b[38;5;28mprint\u001b[39m(\u001b[38;5;124mf\u001b[39m\u001b[38;5;124m\"\u001b[39m\u001b[38;5;124mOverlap: \u001b[39m\u001b[38;5;132;01m{\u001b[39;00moverlap\u001b[38;5;241m/\u001b[39m\u001b[38;5;28;43mlen\u001b[39;49m\u001b[43m(\u001b[49m\u001b[43mtest_melody\u001b[49m\u001b[43m[\u001b[49m\u001b[38;5;241;43m1\u001b[39;49m\u001b[43m]\u001b[49m\u001b[43m)\u001b[49m\u001b[38;5;132;01m}\u001b[39;00m\u001b[38;5;124m\"\u001b[39m)\n",
      "\u001b[1;31mTypeError\u001b[0m: object of type 'int' has no len()"
     ]
    }
   ],
   "source": [
    "best_section, overlap = find_best_chord_match(g1, ['C',test_melody])\n",
    "\n",
    "print(f\"Best chord: {best_section}\")   \n",
    "print(f\"Overlap: {overlap/len(test_melody)}\")\n",
    "\n",
    "best_section, overlap = find_best_chord_match(g1, test_melody2)\n",
    "\n",
    "print(f\"Best chord: {best_section}\")    \n",
    "print(f\"Overlap: {overlap/len(test_melody2[1])}\")"
   ]
  },
  {
   "cell_type": "code",
   "execution_count": 59,
   "metadata": {},
   "outputs": [
    {
     "name": "stdout",
     "output_type": "stream",
     "text": [
      "[64, 65, 66, 67, 68, 69, 70, 71, 72, 73, 74, 75, 76, 77, 78, 79, 80, 81, 82, 83, 84, 85, 86, 87, 88]\n",
      "MIDI notes for chord: [40, 48, 52, 55, 60, 64]\n"
     ]
    }
   ],
   "source": [
    "print(g1.fboard[1])\n",
    "midi_notes = g1.get_chord_midi(g1.chords['C'][0])\n",
    "print(f\"MIDI notes for chord: {midi_notes}\")"
   ]
  },
  {
   "cell_type": "code",
   "execution_count": null,
   "metadata": {},
   "outputs": [],
   "source": []
  }
 ],
 "metadata": {
  "kernelspec": {
   "display_name": "GSC",
   "language": "python",
   "name": "python3"
  },
  "language_info": {
   "codemirror_mode": {
    "name": "ipython",
    "version": 3
   },
   "file_extension": ".py",
   "mimetype": "text/x-python",
   "name": "python",
   "nbconvert_exporter": "python",
   "pygments_lexer": "ipython3",
   "version": "3.12.7"
  }
 },
 "nbformat": 4,
 "nbformat_minor": 2
}
