{
 "cells": [
  {
   "cell_type": "code",
   "execution_count": null,
   "metadata": {},
   "outputs": [],
   "source": [
    "class Guitar():\n",
    "    def __init__(self,tuning=[40, 45, 50, 55, 59, 64], fretnum=20):\n",
    "        self.tuning= tuning\n",
    "        self.fretnum=fretnum\n",
    "        def genfboard():\n",
    "            boarddic={}\n",
    "            stri=6\n",
    "            for i in self.tuning:\n",
    "                for j in range(self.fretnum+1):\n",
    "                    boarddic[(stri,j)]=i+j\n",
    "                stri-=1\n",
    "            return boarddic\n",
    "        self.fboard=genfboard()\n",
    "\n",
    "class Hand():\n",
    "    def __init__(self):\n",
    "        self.f1=None\n",
    "        self.f2=None\n",
    "        self.f3=None\n",
    "        self.f4=None"
   ]
  },
  {
   "cell_type": "code",
   "execution_count": 2,
   "metadata": {},
   "outputs": [
    {
     "data": {
      "text/plain": [
       "['C', [60, 62, 64, 65, 64, 62, 60]]"
      ]
     },
     "execution_count": 2,
     "metadata": {},
     "output_type": "execute_result"
    }
   ],
   "source": [
    "test = [\n",
    "    ['C', [60, 62, 64, 65, 64, 62, 60]], \n",
    "    ['Am', [57, 60, 64, 62, 60, 57]],     \n",
    "    ['G', [55, 57, 59, 60, 59, 57, 55]],  \n",
    "    ['D', [62, 64, 66, 69, 67, 64, 62]],  \n",
    "    ['Em', [52, 55, 59, 60, 59, 55, 52]], \n",
    "    ['F', [65, 67, 69, 70, 69, 67, 65]]   \n",
    "]\n",
    "test[0]"
   ]
  },
  {
   "cell_type": "code",
   "execution_count": null,
   "metadata": {},
   "outputs": [],
   "source": [
    "g1=Guitar()\n",
    "g1.fboard"
   ]
  },
  {
   "cell_type": "code",
   "execution_count": null,
   "metadata": {},
   "outputs": [],
   "source": []
  }
 ],
 "metadata": {
  "kernelspec": {
   "display_name": "GSC",
   "language": "python",
   "name": "python3"
  },
  "language_info": {
   "codemirror_mode": {
    "name": "ipython",
    "version": 3
   },
   "file_extension": ".py",
   "mimetype": "text/x-python",
   "name": "python",
   "nbconvert_exporter": "python",
   "pygments_lexer": "ipython3",
   "version": "3.12.7"
  }
 },
 "nbformat": 4,
 "nbformat_minor": 2
}
